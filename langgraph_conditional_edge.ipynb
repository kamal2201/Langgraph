{
 "cells": [
  {
   "cell_type": "code",
   "execution_count": 17,
   "metadata": {},
   "outputs": [],
   "source": [
    "%%capture --no-stderr\n",
    "%pip install --quiet -U langgraph"
   ]
  },
  {
   "cell_type": "code",
   "execution_count": 18,
   "metadata": {},
   "outputs": [],
   "source": [
    "from typing_extensions import TypedDict\n",
    "\n",
    "class State(TypedDict):\n",
    "    user_input: str"
   ]
  },
  {
   "cell_type": "code",
   "execution_count": 19,
   "metadata": {},
   "outputs": [],
   "source": [
    "def node1(state: State) -> State:\n",
    "    print(\"---Node 1---\", state)\n",
    "    return {\"user_input\": state[\"user_input\"] + \"I am\"}\n",
    "\n",
    "def node2(state: State) -> State:\n",
    "    print(\"---Node 2---\", state)\n",
    "    return {\"user_input\": state[\"user_input\"] + \" happy\"}\n",
    "\n",
    "def node3(state: State) -> State:\n",
    "    print(\"---Node 3---\", state)\n",
    "    return {\"user_input\": state[\"user_input\"] + \" sad\"}"
   ]
  },
  {
   "cell_type": "code",
   "execution_count": 33,
   "metadata": {},
   "outputs": [],
   "source": [
    "import random\n",
    "from typing import Literal\n",
    "\n",
    "def decide_next_node(state: State) -> Literal[\"node 2\", \"node 3\"]:\n",
    "    user_input = state[\"user_input\"]\n",
    "    \n",
    "    if random.random() < 0.5:\n",
    "        return \"node 2\"\n",
    "    \n",
    "    return \"node 3\""
   ]
  },
  {
   "cell_type": "code",
   "execution_count": 25,
   "metadata": {},
   "outputs": [
    {
     "data": {
      "image/png": "[encoded data removed]",
      "text/plain": [
       "<IPython.core.display.Image object>"
      ]
     },
     "metadata": {},
     "output_type": "display_data"
    }
   ],
   "source": [
    "from IPython.display import display, Image\n",
    "from langgraph.graph import StateGraph, START, END\n",
    "from langgraph.graph.state import CompiledStateGraph\n",
    "\n",
    "builder: StateGraph = StateGraph(State)\n",
    "\n",
    "builder.add_node(\"node 1\", node1)\n",
    "builder.add_node(\"node 2\", node2)\n",
    "builder.add_node(\"node 3\", node3)\n",
    "\n",
    "builder.add_edge(START, \"node 1\")\n",
    "builder.add_conditional_edges(\"node 1\", decide_next_node)\n",
    "builder.add_edge(\"node 2\", END)\n",
    "builder.add_edge(\"node 3\", END)\n",
    "\n",
    "graph: CompiledStateGraph = builder.compile()\n",
    "\n",
    "display(Image(graph.get_graph().draw_mermaid_png()))\n"
   ]
  },
  {
   "cell_type": "code",
   "execution_count": 41,
   "metadata": {},
   "outputs": [
    {
     "name": "stdout",
     "output_type": "stream",
     "text": [
      "---Node 1--- {'user_input': 'Hey, I am Kamal. '}\n",
      "---Node 2--- {'user_input': 'Hey, I am Kamal. I am'}\n"
     ]
    },
    {
     "data": {
      "text/plain": [
       "{'user_input': 'Hey, I am Kamal. I am happy'}"
      ]
     },
     "execution_count": 41,
     "metadata": {},
     "output_type": "execute_result"
    }
   ],
   "source": [
    "result = graph.invoke({\"user_input\": \"Hey, I am Kamal. \"})\n",
    "result"
   ]
  }
 ],
 "metadata": {
  "kernelspec": {
   "display_name": "base",
   "language": "python",
   "name": "python3"
  },
  "language_info": {
   "codemirror_mode": {
    "name": "ipython",
    "version": 3
   },
   "file_extension": ".py",
   "mimetype": "text/x-python",
   "name": "python",
   "nbconvert_exporter": "python",
   "pygments_lexer": "ipython3",
   "version": "3.11.5"
  }
 },
 "nbformat": 4,
 "nbformat_minor": 2
}
