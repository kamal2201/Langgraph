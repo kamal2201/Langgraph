{
 "cells": [
  {
   "cell_type": "code",
   "execution_count": 105,
   "metadata": {},
   "outputs": [],
   "source": [
    "%%capture --no-stderr\n",
    "%pip install --quiet -U langchain_google_genai langchain_core langgraph langchain langchain-community"
   ]
  },
  {
   "cell_type": "code",
   "execution_count": 106,
   "metadata": {},
   "outputs": [],
   "source": [
    "import os\n",
    "GEMINI_API_KEY = os.environ.get(\"GOOGLE_API_KEY\")"
   ]
  },
  {
   "cell_type": "markdown",
   "metadata": {},
   "source": [
    "## Schema\n",
    "\n",
    "When we define a Langgraph `StateGraph`, we use a State Schema.\n",
    "\n",
    "The state schema represents the stucture and types of data that our graph will use.\n",
    "\n",
    "All nodes are expected to communicate using that schema."
   ]
  },
  {
   "cell_type": "markdown",
   "metadata": {},
   "source": [
    "### TypedDict"
   ]
  },
  {
   "cell_type": "code",
   "execution_count": 107,
   "metadata": {},
   "outputs": [],
   "source": [
    "from typing_extensions import TypedDict\n",
    "\n",
    "class TypedDictState(TypedDict):\n",
    "    foo: str\n",
    "    bar: int"
   ]
  },
  {
   "cell_type": "code",
   "execution_count": 108,
   "metadata": {},
   "outputs": [
    {
     "name": "stdout",
     "output_type": "stream",
     "text": [
      "M&Ms\n",
      "Choco\n"
     ]
    }
   ],
   "source": [
    "choco_bars: TypedDictState = TypedDictState(company=\"Choco\", bar=\"M&Ms\")\n",
    "print(choco_bars[\"bar\"])\n",
    "print(choco_bars[\"company\"])"
   ]
  },
  {
   "cell_type": "code",
   "execution_count": 109,
   "metadata": {},
   "outputs": [],
   "source": [
    "from typing import Literal\n",
    "\n",
    "class TypedDictState(TypedDict):\n",
    "    name: str\n",
    "    mood: Literal[\"happy\", \"sad\"]"
   ]
  },
  {
   "cell_type": "code",
   "execution_count": 110,
   "metadata": {},
   "outputs": [
    {
     "name": "stdout",
     "output_type": "stream",
     "text": [
      "{'name': 'Choco', 'mood': 'mad'}\n"
     ]
    }
   ],
   "source": [
    "override_mood: TypedDictState = TypedDictState(name=\"Choco\", mood=\"mad\")\n",
    "override_mood[\"mood\"]\n",
    "print(override_mood)"
   ]
  },
  {
   "cell_type": "code",
   "execution_count": 111,
   "metadata": {},
   "outputs": [
    {
     "data": {
      "image/png": "[encoded data removed]",
      "text/plain": [
       "<IPython.core.display.Image object>"
      ]
     },
     "metadata": {},
     "output_type": "display_data"
    }
   ],
   "source": [
    "import random\n",
    "from IPython.display import display, Image\n",
    "from langgraph.graph import StateGraph, START, END\n",
    "from langgraph.graph.state import CompiledStateGraph\n",
    "\n",
    "def node_1(state: TypedDictState):\n",
    "    print(\"Node 1\")\n",
    "    return {\"name\": state['name'] + \" is ...\"}\n",
    "\n",
    "def node_2(state: TypedDictState):\n",
    "    print(\"Node 2\")\n",
    "    return {\"mood\": \"mad\"}\n",
    "\n",
    "def node_3(state: TypedDictState):\n",
    "    print(\"Node 3\")\n",
    "    return {\"mood\": \"happy\"}\n",
    "\n",
    "def decide_mood(state: TypedDictState) -> Literal[\"node2\", \"node3\"]:\n",
    "    if random.random() < 0.5:\n",
    "        return \"node2\"\n",
    "    return \"node3\"\n",
    "\n",
    "\n",
    "builder: StateGraph = StateGraph(TypedDictState)\n",
    "builder.add_node(\"node1\", node_1)\n",
    "builder.add_node(\"node2\", node_2)\n",
    "builder.add_node(\"node3\", node_3)\n",
    "\n",
    "builder.add_edge(START, \"node1\")\n",
    "builder.add_conditional_edges(\"node1\", decide_mood)\n",
    "builder.add_edge(\"node2\", END)\n",
    "builder.add_edge(\"node3\", END)\n",
    "\n",
    "graph: CompiledStateGraph = builder.compile()\n",
    "\n",
    "display(Image(graph.get_graph().draw_mermaid_png()))"
   ]
  },
  {
   "cell_type": "code",
   "execution_count": 112,
   "metadata": {},
   "outputs": [
    {
     "name": "stdout",
     "output_type": "stream",
     "text": [
      "Node 1\n",
      "Node 2\n"
     ]
    },
    {
     "data": {
      "text/plain": [
       "{'name': 'Choco is ...', 'mood': 'mad'}"
      ]
     },
     "execution_count": 112,
     "metadata": {},
     "output_type": "execute_result"
    }
   ],
   "source": [
    "graph.invoke({\"name\": \"Choco\"})"
   ]
  },
  {
   "cell_type": "markdown",
   "metadata": {},
   "source": [
    "### Dataclass"
   ]
  },
  {
   "cell_type": "code",
   "execution_count": 113,
   "metadata": {},
   "outputs": [
    {
     "data": {
      "text/plain": [
       "DataClassState(name='Choco', mood='sad')"
      ]
     },
     "execution_count": 113,
     "metadata": {},
     "output_type": "execute_result"
    }
   ],
   "source": [
    "from dataclasses import dataclass\n",
    "\n",
    "@dataclass\n",
    "class DataClassState:\n",
    "    name: str\n",
    "    mood: Literal[\"happy\", \"sad\"]\n",
    "    \n",
    "no_name: DataClassState = DataClassState(name=\"Choco\", mood=random.choice([\"happy\", \"sad\"]))\n",
    "no_name"
   ]
  },
  {
   "cell_type": "code",
   "execution_count": 114,
   "metadata": {},
   "outputs": [
    {
     "data": {
      "image/png": "[encoded data removed]",
      "text/plain": [
       "<IPython.core.display.Image object>"
      ]
     },
     "metadata": {},
     "output_type": "display_data"
    }
   ],
   "source": [
    "def node_1(state: DataClassState) -> dict:\n",
    "    print(\"Node 1\")\n",
    "    return {\"name\": state.name + \" is ...\"}\n",
    "\n",
    "def node_2(state: DataClassState) -> dict:\n",
    "    print(\"Node 2\")\n",
    "    return {\"mood\": \"mad\"}\n",
    "\n",
    "def node_3(state: DataClassState) -> dict:\n",
    "    print(\"Node 3\")\n",
    "    return {\"mood\": \"happy\"}\n",
    "\n",
    "def decide_mood(state: DataClassState) -> Literal[\"node2\", \"node3\"]:\n",
    "    if random.random() < 0.5:\n",
    "        return \"node2\"\n",
    "    return \"node3\"\n",
    "\n",
    "builder: StateGraph = StateGraph(DataClassState)\n",
    "builder.add_node(\"node1\", node_1)\n",
    "builder.add_node(\"node2\", node_2)\n",
    "builder.add_node(\"node3\", node_3)\n",
    "\n",
    "builder.add_edge(START, \"node1\")\n",
    "builder.add_conditional_edges(\"node1\", decide_mood)\n",
    "builder.add_edge(\"node2\", END)\n",
    "builder.add_edge(\"node3\", END)\n",
    "\n",
    "graph: CompiledStateGraph = builder.compile()\n",
    "\n",
    "display(Image(graph.get_graph().draw_mermaid_png()))"
   ]
  },
  {
   "cell_type": "code",
   "execution_count": 115,
   "metadata": {},
   "outputs": [
    {
     "name": "stdout",
     "output_type": "stream",
     "text": [
      "Node 1\n",
      "Node 2\n"
     ]
    },
    {
     "data": {
      "text/plain": [
       "{'name': 'Choco is ...', 'mood': 'mad'}"
      ]
     },
     "execution_count": 115,
     "metadata": {},
     "output_type": "execute_result"
    }
   ],
   "source": [
    "graph.invoke({\"name\": \"Choco\", \"mood\": \"happy\"})"
   ]
  },
  {
   "cell_type": "code",
   "execution_count": 116,
   "metadata": {},
   "outputs": [
    {
     "name": "stdout",
     "output_type": "stream",
     "text": [
      "Node 1\n",
      "Node 3\n"
     ]
    },
    {
     "data": {
      "text/plain": [
       "{'name': 'Choco is ...', 'mood': 'happy'}"
      ]
     },
     "execution_count": 116,
     "metadata": {},
     "output_type": "execute_result"
    }
   ],
   "source": [
    "graph.invoke({\"name\": \"Choco\", \"mood\": \"still not enforced\"})"
   ]
  },
  {
   "cell_type": "code",
   "execution_count": 117,
   "metadata": {},
   "outputs": [
    {
     "name": "stdout",
     "output_type": "stream",
     "text": [
      "Node 1\n",
      "Node 3\n"
     ]
    },
    {
     "data": {
      "text/plain": [
       "{'name': 'Choco is ...', 'mood': 'happy'}"
      ]
     },
     "execution_count": 117,
     "metadata": {},
     "output_type": "execute_result"
    }
   ],
   "source": [
    "graph.invoke({\"name\": \"Choco\", \"mood\": \"still not enforced\", \"random\": \"value\"})"
   ]
  },
  {
   "cell_type": "markdown",
   "metadata": {},
   "source": [
    "### Pydantic"
   ]
  },
  {
   "cell_type": "code",
   "execution_count": 118,
   "metadata": {},
   "outputs": [
    {
     "name": "stdout",
     "output_type": "stream",
     "text": [
      "Validation Error: 1 validation error for PydanticState\n",
      "mood\n",
      "  Input should be 'happy' or 'sad' [type=literal_error, input_value='mad', input_type=str]\n",
      "    For further information visit https://errors.pydantic.dev/2.10/v/literal_error\n"
     ]
    }
   ],
   "source": [
    "from pydantic import BaseModel, field_validator, ValidationError\n",
    "\n",
    "class PydanticState(BaseModel):\n",
    "    name: str\n",
    "    mood: Literal[\"happy\", \"sad\"]\n",
    "\n",
    "    @field_validator(\"mood\")\n",
    "    @classmethod\n",
    "    def check_mood(cls, value):\n",
    "        if value not in [\"happy\", \"sad\"]:\n",
    "            raise ValueError(\"Mood must be either 'happy' or 'sad'\")\n",
    "        return value\n",
    "    \n",
    "try:\n",
    "    state = PydanticState(name=\"Choco\", mood=\"mad\")\n",
    "except ValidationError as e:    \n",
    "    print(\"Validation Error:\", e)\n",
    "    \n",
    "    "
   ]
  },
  {
   "cell_type": "code",
   "execution_count": 119,
   "metadata": {},
   "outputs": [
    {
     "data": {
      "image/png": "[encoded data removed]",
      "text/plain": [
       "<IPython.core.display.Image object>"
      ]
     },
     "metadata": {},
     "output_type": "display_data"
    }
   ],
   "source": [
    "def node_1(state: PydanticState) -> dict:\n",
    "    print(\"Node 1\")\n",
    "    return {\"name\": state.name + \" is ...\"}\n",
    "\n",
    "def node_2(state: PydanticState) -> dict:\n",
    "    print(\"Node 2\")\n",
    "    return {\"mood\": \"sad\"}\n",
    "\n",
    "def node_3(state: PydanticState) -> dict:\n",
    "    print(\"Node 3\")\n",
    "    return {\"mood\": \"happy\"}\n",
    "\n",
    "def decide_mood(state: PydanticState) -> Literal[\"node2\", \"node3\"]:\n",
    "    if random.random() < 0.5:\n",
    "        return \"node2\"\n",
    "    return \"node3\"\n",
    "\n",
    "builder: StateGraph = StateGraph(PydanticState)\n",
    "builder.add_node(\"node1\", node_1)\n",
    "builder.add_node(\"node2\", node_2)\n",
    "builder.add_node(\"node3\", node_3)\n",
    "\n",
    "builder.add_edge(START, \"node1\")\n",
    "builder.add_conditional_edges(\"node1\", decide_mood)\n",
    "builder.add_edge(\"node2\", END)\n",
    "builder.add_edge(\"node3\", END)\n",
    "\n",
    "graph: CompiledStateGraph = builder.compile()\n",
    "\n",
    "display(Image(graph.get_graph().draw_mermaid_png()))"
   ]
  },
  {
   "cell_type": "code",
   "execution_count": 120,
   "metadata": {},
   "outputs": [
    {
     "name": "stdout",
     "output_type": "stream",
     "text": [
      "Node 1\n",
      "Node 2\n"
     ]
    },
    {
     "data": {
      "text/plain": [
       "{'name': 'Choco is ...', 'mood': 'sad'}"
      ]
     },
     "execution_count": 120,
     "metadata": {},
     "output_type": "execute_result"
    }
   ],
   "source": [
    "graph.invoke({\"name\": \"Choco\", \"mood\": \"happy\"})"
   ]
  },
  {
   "cell_type": "markdown",
   "metadata": {},
   "source": [
    "## Pydantic React Agent"
   ]
  },
  {
   "cell_type": "code",
   "execution_count": 121,
   "metadata": {},
   "outputs": [],
   "source": [
    "from langchain_core.tools import tool\n",
    "\n",
    "@tool\n",
    "def search(query: str) -> str:\n",
    "    \"\"\"Search for a query.\"\"\"\n",
    "    return f\"Search results for {query}\"\n",
    "\n",
    "tools = [search]"
   ]
  },
  {
   "cell_type": "code",
   "execution_count": 122,
   "metadata": {},
   "outputs": [],
   "source": [
    "from langgraph.prebuilt import ToolNode\n",
    "from langgraph.prebuilt import tools_condition\n",
    "\n",
    "tool_node: ToolNode = ToolNode(tools)"
   ]
  },
  {
   "cell_type": "code",
   "execution_count": 123,
   "metadata": {},
   "outputs": [],
   "source": [
    "from langchain_google_genai import ChatGoogleGenerativeAI\n",
    "\n",
    "llm: ChatGoogleGenerativeAI = ChatGoogleGenerativeAI(model=\"gemini-1.5-flash\", api_key=GEMINI_API_KEY, disable_streaming=False)\n",
    "\n",
    "model: ChatGoogleGenerativeAI = llm.bind_tools(tools)"
   ]
  },
  {
   "cell_type": "code",
   "execution_count": 124,
   "metadata": {},
   "outputs": [],
   "source": [
    "import operator\n",
    "from typing import Annotated, Sequence\n",
    "\n",
    "from langchain_core.messages import BaseMessage\n",
    "from pydantic import BaseModel\n",
    "\n",
    "class AgentState(BaseModel):\n",
    "    messages: Annotated[Sequence[BaseMessage], operator.add]"
   ]
  },
  {
   "cell_type": "code",
   "execution_count": 125,
   "metadata": {},
   "outputs": [],
   "source": [
    "def should_continue(state: AgentState) -> Literal['end', 'continue']:\n",
    "    messages = state.messages\n",
    "    last_message = messages[-1]\n",
    "    \n",
    "    if not last_message.tool_calls:\n",
    "        return \"end\"\n",
    "    else:\n",
    "        return \"continue\"\n",
    "    \n",
    "\n",
    "def call_model(state: AgentState) -> str:\n",
    "    messages = state.messages\n",
    "    response = model.invoke(messages)\n",
    "    return {\"messages\": [response]}"
   ]
  },
  {
   "cell_type": "code",
   "execution_count": 126,
   "metadata": {},
   "outputs": [
    {
     "data": {
      "image/png": "[encoded data removed]",
      "text/plain": [
       "<IPython.core.display.Image object>"
      ]
     },
     "metadata": {},
     "output_type": "display_data"
    }
   ],
   "source": [
    "workflow: StateGraph = StateGraph(AgentState)\n",
    "\n",
    "workflow.add_node(\"agent\", call_model)\n",
    "workflow.add_node(\"action\", tool_node)\n",
    "\n",
    "workflow.add_edge(START, \"agent\")\n",
    "workflow.add_conditional_edges(\"agent\", should_continue, {\"continue\": \"action\", \"end\": END})\n",
    "workflow.add_edge(\"action\", \"agent\")\n",
    "\n",
    "app: CompiledStateGraph = workflow.compile()\n",
    "display(Image(app.get_graph().draw_mermaid_png()))"
   ]
  },
  {
   "cell_type": "code",
   "execution_count": 128,
   "metadata": {},
   "outputs": [
    {
     "name": "stdout",
     "output_type": "stream",
     "text": [
      "================================\u001b[1m Human Message \u001b[0m=================================\n",
      "\n",
      "Search the tool for what is the weather in Paris?\n",
      "==================================\u001b[1m Ai Message \u001b[0m==================================\n",
      "\n",
      "The available tools lack the functionality to access real-time weather information.  Therefore, I cannot answer your question.\n"
     ]
    }
   ],
   "source": [
    "from langchain_core.messages import HumanMessage\n",
    "\n",
    "inputs = {\"messages\": [HumanMessage(content=\"Search the tool for what is the weather in Paris?\")]}\n",
    "for chunk in app.stream(inputs, stream_mode=\"values\"):\n",
    "    chunk[\"messages\"][-1].pretty_print()"
   ]
  },
  {
   "cell_type": "code",
   "execution_count": null,
   "metadata": {},
   "outputs": [],
   "source": []
  }
 ],
 "metadata": {
  "kernelspec": {
   "display_name": "base",
   "language": "python",
   "name": "python3"
  },
  "language_info": {
   "codemirror_mode": {
    "name": "ipython",
    "version": 3
   },
   "file_extension": ".py",
   "mimetype": "text/x-python",
   "name": "python",
   "nbconvert_exporter": "python",
   "pygments_lexer": "ipython3",
   "version": "3.11.5"
  }
 },
 "nbformat": 4,
 "nbformat_minor": 2
}
