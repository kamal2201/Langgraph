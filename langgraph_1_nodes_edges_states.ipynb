{
  "cells": [
    {
      "cell_type": "markdown",
      "metadata": {},
      "source": [
        "## Langchain ChatModels"
      ]
    },
    {
      "cell_type": "code",
      "execution_count": 27,
      "metadata": {
        "colab": {
          "base_uri": "https://localhost:8080/"
        },
        "collapsed": true,
        "id": "2P4ooAaNUEBt",
        "outputId": "c2e5eb59-ad1b-4a47-8904-1b046efd8e51"
      },
      "outputs": [],
      "source": [
        "%%capture --no-stderr\n",
        "%pip install --quiet -U langchain_google_genai langchain_core"
      ]
    },
    {
      "cell_type": "code",
      "execution_count": 1,
      "metadata": {
        "id": "8KYp61YQVU_n"
      },
      "outputs": [],
      "source": [
        "import os\n",
        "GEMINI_API_KEY = os.environ['GOOGLE_API_KEY']"
      ]
    },
    {
      "cell_type": "code",
      "execution_count": 2,
      "metadata": {
        "id": "-NSUz5xnVWI1"
      },
      "outputs": [],
      "source": [
        "from langchain_google_genai import ChatGoogleGenerativeAI\n",
        "\n",
        "llm = ChatGoogleGenerativeAI(\n",
        "    model=\"gemini-1.5-flash\",\n",
        "    api_key=GEMINI_API_KEY,\n",
        "    temperature=0.5\n",
        ")"
      ]
    },
    {
      "cell_type": "code",
      "execution_count": 3,
      "metadata": {
        "colab": {
          "base_uri": "https://localhost:8080/"
        },
        "id": "Ml77Q5nRWp3H",
        "outputId": "41906f82-8c44-47a0-e935-bf3fac6586e5"
      },
      "outputs": [
        {
          "data": {
            "text/plain": [
              "AIMessage(content='Hi there! How can I help you today?', additional_kwargs={}, response_metadata={'prompt_feedback': {'block_reason': 0, 'safety_ratings': []}, 'finish_reason': 'STOP', 'safety_ratings': []}, id='run-43d9ba40-ae22-4ac4-bd49-c24ff09933ad-0', usage_metadata={'input_tokens': 1, 'output_tokens': 11, 'total_tokens': 12, 'input_token_details': {'cache_read': 0}})"
            ]
          },
          "execution_count": 3,
          "metadata": {},
          "output_type": "execute_result"
        }
      ],
      "source": [
        "result = llm.invoke(\"Hi\")\n",
        "result # Metadata"
      ]
    },
    {
      "cell_type": "code",
      "execution_count": 4,
      "metadata": {
        "colab": {
          "base_uri": "https://localhost:8080/",
          "height": 35
        },
        "id": "rtLYAogjWtio",
        "outputId": "8e2aa978-ab03-4ece-d86a-2304406fe305"
      },
      "outputs": [
        {
          "data": {
            "text/plain": [
              "'Hi there! How can I help you today?'"
            ]
          },
          "execution_count": 4,
          "metadata": {},
          "output_type": "execute_result"
        }
      ],
      "source": [
        "result.content"
      ]
    },
    {
      "cell_type": "code",
      "execution_count": 5,
      "metadata": {
        "colab": {
          "base_uri": "https://localhost:8080/",
          "height": 35
        },
        "id": "ruEam3PGW4RK",
        "outputId": "0ba683ba-00a7-42b5-f77c-b9c1c698a63d"
      },
      "outputs": [
        {
          "data": {
            "text/plain": [
              "'Hi there! How can I help you today?'"
            ]
          },
          "execution_count": 5,
          "metadata": {},
          "output_type": "execute_result"
        }
      ],
      "source": [
        "from langchain_core.messages import HumanMessage, AIMessage\n",
        "\n",
        "msg = HumanMessage(content=\"Hi\")\n",
        "\n",
        "messages = [msg]\n",
        "\n",
        "result = llm.invoke(messages)\n",
        "result.content"
      ]
    },
    {
      "cell_type": "code",
      "execution_count": 6,
      "metadata": {
        "colab": {
          "base_uri": "https://localhost:8080/",
          "height": 137
        },
        "id": "uW96eJpFXn7B",
        "outputId": "0b282b57-2cdf-41cf-f9a8-4fe214c956e5"
      },
      "outputs": [
        {
          "data": {
            "text/plain": [
              "\"LangChain is a framework for developing applications powered by language models.  Instead of just interacting with a language model through a single prompt, LangChain allows you to build more complex and sophisticated applications by:\\n\\n* **Connecting to multiple language models:**  You're not locked into a single provider.  LangChain can work with OpenAI, Hugging Face Hub models, and many others.\\n\\n* **Managing memory:**  LangChain provides mechanisms to maintain context across multiple interactions with the language model, improving the coherence and accuracy of the application's responses.  This is crucial for tasks that require remembering previous interactions or information.\\n\\n* **Chain of thought prompting:**  LangChain facilitates the use of advanced prompting techniques like chain of thought, which can significantly improve the reasoning abilities of language models.\\n\\n* **Integrating with external data sources:**  LangChain allows you to connect your language model to databases, APIs, and other data sources, enabling it to access and process information beyond its pre-trained knowledge.  This is important for applications that need up-to-date or specific information.\\n\\n* **Agent capabilities:**  LangChain supports the creation of agents that can decide which tools (e.g., a search engine, a calculator, a database) to use to answer a user's query, making the application more versatile and intelligent.\\n\\nIn essence, LangChain provides the building blocks for creating applications that go beyond simple chatbot interactions.  It empowers developers to build more complex and powerful applications using language models as a core component.  Think of it as a toolkit for building applications that leverage the power of LLMs in a structured and manageable way.\""
            ]
          },
          "execution_count": 6,
          "metadata": {},
          "output_type": "execute_result"
        }
      ],
      "source": [
        "messages = [\n",
        "    HumanMessage(content=\"Hi\"),\n",
        "    AIMessage(content=\"Hi there! How can I help you today?\"),\n",
        "    HumanMessage(content=\"What is Langchain?\")\n",
        "]\n",
        "\n",
        "result = llm.invoke(messages)\n",
        "result.content"
      ]
    },
    {
      "cell_type": "code",
      "execution_count": 7,
      "metadata": {
        "colab": {
          "base_uri": "https://localhost:8080/",
          "height": 137
        },
        "id": "d_RDd0dvZN8B",
        "outputId": "1c378b96-c84b-4d34-f35f-14c4476489fb"
      },
      "outputs": [
        {
          "data": {
            "text/plain": [
              "'You can learn about LangChain from several resources:\\n\\n* **Official LangChain Documentation:** This is the most comprehensive and up-to-date source of information.  It includes tutorials, examples, and API references.  Start here: [https://python.langchain.com/en/latest/](https://python.langchain.com/en/latest/)\\n\\n* **LangChain\\'s GitHub Repository:**  The GitHub repository provides access to the source code, issue tracking, and community contributions.  It\\'s a great place to dive deeper and see how things work under the hood: [https://github.com/langchain-ai/langchain](https://github.com/langchain-ai/langchain)\\n\\n* **Tutorials and Blog Posts:** Many tutorials and blog posts are available online that cover various aspects of LangChain. Search for \"LangChain tutorial\" or \"LangChain example\" on Google or your preferred search engine.  Look for tutorials that focus on specific applications or features that interest you.\\n\\n* **YouTube Tutorials:** Several YouTube channels cover LangChain. Searching for \"LangChain tutorial YouTube\" will yield relevant videos.\\n\\n* **LangChain Community:**  Engage with the LangChain community on platforms like Discord or their forum (if one exists).  Asking questions and participating in discussions can be a valuable learning experience.\\n\\n\\nThe best approach is to start with the official documentation and then supplement your learning with tutorials and blog posts that focus on specific areas you want to explore.  Remember to choose tutorials and examples that are relatively recent, as LangChain is actively developed and updated.'"
            ]
          },
          "execution_count": 7,
          "metadata": {},
          "output_type": "execute_result"
        }
      ],
      "source": [
        "messages = [\n",
        "    HumanMessage(content=\"Hi\"),\n",
        "    AIMessage(content=\"Hi there! How can I help you today?\"),\n",
        "    HumanMessage(content=\"What is Langchain?\"),\n",
        "    AIMessage(content=\"LangChain is a framework for developing applications powered by language models.\"),\n",
        "    HumanMessage(content=\"Where can I learn?\")\n",
        "]\n",
        "\n",
        "result = llm.invoke(messages)\n",
        "result.content"
      ]
    },
    {
      "cell_type": "code",
      "execution_count": 8,
      "metadata": {
        "id": "7hytA6DvZ8ib"
      },
      "outputs": [],
      "source": [
        "%%capture --no-stderr\n",
        "%pip install --quiet -U langgraph"
      ]
    },
    {
      "cell_type": "markdown",
      "metadata": {},
      "source": [
        "## State"
      ]
    },
    {
      "cell_type": "code",
      "execution_count": 9,
      "metadata": {},
      "outputs": [],
      "source": [
        "from typing_extensions import TypedDict\n",
        "\n",
        "class LearningState(TypedDict):\n",
        "    prompt: str"
      ]
    },
    {
      "cell_type": "code",
      "execution_count": 10,
      "metadata": {},
      "outputs": [],
      "source": [
        "mac_state : LearningState = LearningState(prompt=\"Hello from Macbook Air M1\")"
      ]
    },
    {
      "cell_type": "code",
      "execution_count": 11,
      "metadata": {},
      "outputs": [
        {
          "name": "stdout",
          "output_type": "stream",
          "text": [
            "{'prompt': 'Hello from Macbook Air M1'}\n",
            "Hello from Macbook Air M1\n",
            "Hello from Macbook Air M1. I am built by Apple Inc.\n",
            "<class 'dict'>\n"
          ]
        }
      ],
      "source": [
        "print(mac_state)\n",
        "print(mac_state[\"prompt\"])\n",
        "print(mac_state[\"prompt\"] + \". I am built by Apple Inc.\")\n",
        "print(type(mac_state))"
      ]
    },
    {
      "cell_type": "markdown",
      "metadata": {},
      "source": [
        "## Nodes"
      ]
    },
    {
      "cell_type": "code",
      "execution_count": 12,
      "metadata": {},
      "outputs": [],
      "source": [
        "def node_1(state: LearningState) -> LearningState:\n",
        "    print(\"---Node 1 State---\", state)\n",
        "    return {\"prompt\": state['prompt'] + \" I am \"}\n",
        "\n",
        "def node_2(state: LearningState) -> LearningState:\n",
        "    print(\"---Node 2 State---\", state)\n",
        "    return {'prompt': state['prompt'] + \"a Macbook Air M1\"}"
      ]
    },
    {
      "cell_type": "markdown",
      "metadata": {},
      "source": [
        "## Edges and Graph Connections"
      ]
    },
    {
      "cell_type": "code",
      "execution_count": 13,
      "metadata": {},
      "outputs": [],
      "source": [
        "from IPython.display import Image, display\n",
        "\n",
        "from langgraph.graph import StateGraph, START, END\n",
        "from langgraph.graph.state import CompiledStateGraph\n",
        "\n",
        "builder: StateGraph = StateGraph(state_schema=LearningState)"
      ]
    },
    {
      "cell_type": "code",
      "execution_count": 14,
      "metadata": {},
      "outputs": [
        {
          "name": "stdout",
          "output_type": "stream",
          "text": [
            "<class 'langgraph.graph.state.StateGraph'>\n"
          ]
        }
      ],
      "source": [
        "print(type(builder))"
      ]
    },
    {
      "cell_type": "code",
      "execution_count": 15,
      "metadata": {},
      "outputs": [
        {
          "data": {
            "text/plain": [
              "<langgraph.graph.state.StateGraph at 0x132806950>"
            ]
          },
          "execution_count": 15,
          "metadata": {},
          "output_type": "execute_result"
        }
      ],
      "source": [
        "builder.add_node(\"node_1\", node_1)\n",
        "builder.add_node(\"node_2\", node_2)"
      ]
    },
    {
      "cell_type": "code",
      "execution_count": 16,
      "metadata": {},
      "outputs": [
        {
          "data": {
            "text/plain": [
              "<langgraph.graph.state.StateGraph at 0x132806950>"
            ]
          },
          "execution_count": 16,
          "metadata": {},
          "output_type": "execute_result"
        }
      ],
      "source": [
        "builder.add_edge(START, \"node_1\")\n",
        "builder.add_edge(\"node_1\", \"node_2\")\n",
        "builder.add_edge(\"node_2\", END)"
      ]
    },
    {
      "cell_type": "code",
      "execution_count": 17,
      "metadata": {},
      "outputs": [],
      "source": [
        "graph: CompiledStateGraph = builder.compile()"
      ]
    },
    {
      "cell_type": "code",
      "execution_count": 18,
      "metadata": {},
      "outputs": [
        {
          "name": "stdout",
          "output_type": "stream",
          "text": [
            "<langgraph.graph.state.CompiledStateGraph object at 0x132b51b10>\n",
            "<class 'langgraph.graph.state.CompiledStateGraph'>\n",
            "Graph(nodes={'__start__': Node(id='__start__', name='__start__', data=<class 'langchain_core.utils.pydantic.LangGraphInput'>, metadata=None), 'node_1': Node(id='node_1', name='node_1', data=node_1(tags=None, recurse=True, explode_args=False, func_accepts_config=False, func_accepts={}), metadata=None), 'node_2': Node(id='node_2', name='node_2', data=node_2(tags=None, recurse=True, explode_args=False, func_accepts_config=False, func_accepts={}), metadata=None), '__end__': Node(id='__end__', name='__end__', data=<class 'langchain_core.utils.pydantic.LangGraphOutput'>, metadata=None)}, edges=[Edge(source='__start__', target='node_1', data=None, conditional=False), Edge(source='node_1', target='node_2', data=None, conditional=False), Edge(source='node_2', target='__end__', data=None, conditional=False)])\n"
          ]
        }
      ],
      "source": [
        "print(graph)\n",
        "print(type(graph))\n",
        "print(graph.get_graph())"
      ]
    },
    {
      "cell_type": "code",
      "execution_count": 19,
      "metadata": {},
      "outputs": [
        {
          "data": {
            "image/png": "[encoded data removed]",
            "text/plain": [
              "<IPython.core.display.Image object>"
            ]
          },
          "metadata": {},
          "output_type": "display_data"
        }
      ],
      "source": [
        "display(Image(graph.get_graph().draw_mermaid_png()))"
      ]
    },
    {
      "cell_type": "markdown",
      "metadata": {},
      "source": [
        "## Graph Invoke"
      ]
    },
    {
      "cell_type": "code",
      "execution_count": 20,
      "metadata": {},
      "outputs": [
        {
          "name": "stdout",
          "output_type": "stream",
          "text": [
            "---Node 1 State--- {'prompt': 'Hey'}\n",
            "---Node 2 State--- {'prompt': 'Hey I am '}\n"
          ]
        },
        {
          "data": {
            "text/plain": [
              "{'prompt': 'Hey I am a Macbook Air M1'}"
            ]
          },
          "execution_count": 20,
          "metadata": {},
          "output_type": "execute_result"
        }
      ],
      "source": [
        "graph.invoke({\"prompt\": \"Hey\"})"
      ]
    },
    {
      "cell_type": "markdown",
      "metadata": {},
      "source": [
        "## Using LLM in Nodes"
      ]
    },
    {
      "cell_type": "code",
      "execution_count": 21,
      "metadata": {},
      "outputs": [],
      "source": [
        "from typing_extensions import TypedDict\n",
        "\n",
        "class LLMAgentCall(TypedDict):\n",
        "    prompt: str\n",
        "    output: str"
      ]
    },
    {
      "cell_type": "code",
      "execution_count": 22,
      "metadata": {},
      "outputs": [],
      "source": [
        "def node_1(state: LLMAgentCall):\n",
        "    print(\"---Node 1 State---\", state)\n",
        "    prompt = state['prompt']\n",
        "    ai_msg: AIMessage = llm.invoke(prompt)\n",
        "    return {\"prompt\": prompt, \"output\": ai_msg.content}"
      ]
    },
    {
      "cell_type": "code",
      "execution_count": 23,
      "metadata": {},
      "outputs": [
        {
          "name": "stdout",
          "output_type": "stream",
          "text": [
            "---Node 1 State--- {'prompt': 'Hi'}\n"
          ]
        },
        {
          "data": {
            "text/plain": [
              "{'prompt': 'Hi', 'output': 'Hi there! How can I help you today?'}"
            ]
          },
          "execution_count": 23,
          "metadata": {},
          "output_type": "execute_result"
        }
      ],
      "source": [
        "greet_message = node_1(LLMAgentCall(prompt=\"Hi\"))\n",
        "greet_message"
      ]
    },
    {
      "cell_type": "code",
      "execution_count": 24,
      "metadata": {},
      "outputs": [],
      "source": [
        "from langgraph.graph import StateGraph, START, END\n",
        "from langgraph.graph.state import CompiledStateGraph\n",
        "\n",
        "# Build Graph\n",
        "builder: StateGraph = StateGraph(state_schema=LLMAgentCall)\n",
        "\n",
        "# Create Nodes\n",
        "builder.add_node(\"node_1\", node_1)\n",
        "\n",
        "# Create Edges\n",
        "builder.add_edge(START, \"node_1\")\n",
        "builder.add_edge(\"node_1\", END)\n",
        "\n",
        "# Compile Graph\n",
        "graph: CompiledStateGraph = builder.compile()"
      ]
    },
    {
      "cell_type": "code",
      "execution_count": 25,
      "metadata": {},
      "outputs": [
        {
          "data": {
            "image/png": "[encoded data removed]",
            "text/plain": [
              "<IPython.core.display.Image object>"
            ]
          },
          "metadata": {},
          "output_type": "display_data"
        }
      ],
      "source": [
        "display(Image(graph.get_graph().draw_mermaid_png()))"
      ]
    },
    {
      "cell_type": "code",
      "execution_count": 30,
      "metadata": {},
      "outputs": [
        {
          "name": "stdout",
          "output_type": "stream",
          "text": [
            "---Node 1 State--- {'prompt': 'Why langgraph is important?'}\n"
          ]
        },
        {
          "data": {
            "text/plain": [
              "{'prompt': 'Why langgraph is important?',\n",
              " 'output': \"LangChain's LangGraph is important because it offers a powerful way to manage and orchestrate complex workflows involving large language models (LLMs).  Its significance stems from several key features:\\n\\n* **Modular and Extensible:** LangGraph allows you to break down complex LLM applications into smaller, manageable modules. This modularity promotes code reusability, easier debugging, and simpler maintenance.  You can easily add new modules or replace existing ones as needed, fostering flexibility and adaptability.\\n\\n* **Workflow Orchestration:**  It excels at orchestrating sequences of LLM calls and other operations.  This is crucial for tasks that require multiple steps, such as summarizing a document, extracting key information, and then generating a report.  LangGraph manages the flow of data between these steps efficiently.\\n\\n* **Improved Debugging and Monitoring:** The modular nature and explicit definition of workflows in LangGraph make debugging significantly easier. You can trace the execution flow, identify bottlenecks, and pinpoint errors more effectively than in monolithic LLM applications.  This facilitates better monitoring and performance optimization.\\n\\n* **Enhanced Reproducibility:**  By explicitly defining the workflow, LangGraph enhances the reproducibility of LLM applications.  You can easily rerun the same workflow with different inputs or parameters, ensuring consistent results and facilitating experimentation.\\n\\n* **Scalability:** As LLM applications grow in complexity, LangGraph's modularity and workflow management capabilities contribute to better scalability.  It allows you to distribute tasks across multiple resources or even different LLMs, improving performance and handling larger datasets.\\n\\n\\nIn essence, LangGraph addresses the challenges of building and managing sophisticated LLM applications by providing a structured, modular, and scalable framework. This makes it easier to develop, debug, maintain, and scale applications that leverage the power of LLMs for complex tasks.  It moves beyond simple chaining of LLM calls to a more sophisticated approach to LLM application development.\"}"
            ]
          },
          "execution_count": 30,
          "metadata": {},
          "output_type": "execute_result"
        }
      ],
      "source": [
        "graph.invoke({\"prompt\": \"Why langgraph is important?\"})"
      ]
    },
    {
      "cell_type": "code",
      "execution_count": null,
      "metadata": {},
      "outputs": [],
      "source": []
    }
  ],
  "metadata": {
    "colab": {
      "provenance": []
    },
    "kernelspec": {
      "display_name": "base",
      "language": "python",
      "name": "python3"
    },
    "language_info": {
      "codemirror_mode": {
        "name": "ipython",
        "version": 3
      },
      "file_extension": ".py",
      "mimetype": "text/x-python",
      "name": "python",
      "nbconvert_exporter": "python",
      "pygments_lexer": "ipython3",
      "version": "3.11.5"
    }
  },
  "nbformat": 4,
  "nbformat_minor": 0
}
